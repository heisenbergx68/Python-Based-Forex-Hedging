{
  "nbformat": 4,
  "nbformat_minor": 0,
  "metadata": {
    "colab": {
      "provenance": []
    },
    "kernelspec": {
      "name": "python3",
      "display_name": "Python 3"
    },
    "language_info": {
      "name": "python"
    }
  },
  "cells": [
    {
      "cell_type": "code",
      "execution_count": null,
      "metadata": {
        "id": "8qIdgHoW4wvQ"
      },
      "outputs": [],
      "source": [
        "!pip install tradermade # Installing the trademade SDK"
      ]
    },
    {
      "cell_type": "code",
      "source": [
        "import tradermade as tm\n",
        "import pandas as pd\n",
        "import numpy as np\n",
        "import seaborn as sns\n",
        "import matplotlib.pyplot as plt"
      ],
      "metadata": {
        "id": "xZyLFrIC40hL"
      },
      "execution_count": null,
      "outputs": []
    },
    {
      "cell_type": "code",
      "source": [
        "tm.set_rest_api_key(\"Jm8O3tsF_UWhvzPcp1ZO\")#Setting up the REST API token (Replace the space highlighted in red with your own API token)\n",
        "df_month=tm.timeseries(currency='AUDUSD,CADUSD,EURUSD,JPYUSD,NZDUSD,NOKUSD,GBPUSD,SEKUSD,CHFUSD',start=\"2023-11-10\",end=\"2023-12-10\",interval=\"daily\",fields=[\"close\"]) # 1 month data\n",
        "df_day=tm.timeseries(currency='AUDUSD,CADUSD,EURUSD,JPYUSD,NZDUSD,NOKUSD,GBPUSD,SEKUSD,CHFUSD',start=\"2023-12-13-00:00\",end=\"2023-12-14-00:00\",interval=\"hourly\",fields=[\"close\"]) # 1 day data"
      ],
      "metadata": {
        "id": "Rzi9S8wJ44Mq"
      },
      "execution_count": null,
      "outputs": []
    },
    {
      "cell_type": "code",
      "source": [
        "stacked_corr = correlation_matrix_month.stack()\n",
        "filtered_corr = stacked_corr[stacked_corr < 1]\n",
        "sorted_corr = filtered_corr.sort_values(ascending=False)"
      ],
      "metadata": {
        "id": "vAAE4Byt5OUa"
      },
      "execution_count": null,
      "outputs": []
    },
    {
      "cell_type": "code",
      "source": [
        "stacked_corr_day = correlation_matrix_day.stack()\n",
        "filtered_corr_day = stacked_corr_day[stacked_corr_day < 1]\n",
        "sorted_corr_day = filtered_corr_day.sort_values(ascending=False)"
      ],
      "metadata": {
        "id": "Fjxy8eg15SDF"
      },
      "execution_count": null,
      "outputs": []
    },
    {
      "cell_type": "code",
      "source": [
        "# Daily Returns for Month Data\n",
        "df_month_CHFUSD = tm.timeseries(currency='CHFUSD', start=\"2023-11-10\", end=\"2023-12-10\", interval=\"daily\", fields=[\"open\", \"high\", \"low\", \"close\"])  # Fetching Month Data for CHFUSD\n",
        "\n",
        "df_month_CHFUSD['Daily_Return'] = ((df_month_CHFUSD['close'] - df_month_CHFUSD['open']) / df_month_CHFUSD['open']) * 100  # Creating Daily Return Value for CHFUSD\n",
        "\n",
        "# ------\n",
        "\n",
        "df_month_NZDUSD = tm.timeseries(currency='NZDUSD', start=\"2023-11-10\", end=\"2023-12-10\", interval=\"daily\", fields=[\"open\", \"high\", \"low\", \"close\"])  # Fetching Month Data for NZDUSD\n",
        "\n",
        "df_month_NZDUSD['Daily_Return'] = ((df_month_NZDUSD['close'] - df_month_NZDUSD['open']) / df_month_NZDUSD['open']) * 100  # Creating Daily Return Value for NZDUSD\n",
        "\n",
        "# ------\n",
        "\n",
        "# Daily Returns for Day Data\n",
        "df_day_SEKUSD = tm.timeseries(currency='SEKUSD', start=\"2023-12-13-00:00\", end=\"2023-12-14-00:00\", interval=\"hourly\", fields=[\"open\", \"high\", \"low\", \"close\"])  # Fetching day Data for SEKUSD\n",
        "\n",
        "df_day_SEKUSD['Daily_Return'] = ((df_day_SEKUSD['close'] - df_day_SEKUSD['open']) / df_day_SEKUSD['open']) * 100  # Creating hourly Return Value for SEKUSD\n",
        "\n",
        "# ------\n",
        "\n",
        "df_day_EURUSD = tm.timeseries(currency='EURUSD', start=\"2023-12-13-00:00\", end=\"2023-12-14-00:00\", interval=\"hourly\", fields=[\"open\", \"high\", \"low\", \"close\"])  # Fetching day Data for EURUSD\n",
        "\n",
        "df_day_EURUSD['Daily_Return'] = ((df_day_EURUSD['close'] - df_day_EURUSD['open']) / df_day_EURUSD['open']) * 100  # Creating hourly Return Value for EURUSD\n",
        "\n",
        "# ------\n",
        "\n",
        "df_day_CHFUSD = tm.timeseries(currency='CHFUSD', start=\"2023-12-13-00:00\", end=\"2023-12-14-00:00\", interval=\"hourly\", fields=[\"open\", \"high\", \"low\", \"close\"])  # Fetching day Data for CHFUSD\n",
        "\n",
        "df_day_CHFUSD['Daily_Return'] = ((df_day_CHFUSD['close'] - df_day_CHFUSD['open']) / df_day_CHFUSD['open']) * 100  # Creating hourly Return Value for CHFUSD\n",
        "\n",
        "# ------\n",
        "\n",
        "df_day_NZDUSD = tm.timeseries(currency='NZDUSD', start=\"2023-12-13-00:00\", end=\"2023-12-14-00:00\", interval=\"hourly\", fields=[\"open\", \"high\", \"low\", \"close\"])  # Fetching day Data for NZDUSD\n",
        "\n",
        "df_day_NZDUSD['Daily_Return'] = ((df_day_NZDUSD['close'] - df_day_NZDUSD['open']) / df_day_NZDUSD['open']) * 100  # Creating hourly Return Value for NZDUSD\n",
        "\n",
        "# ------\n"
      ],
      "metadata": {
        "id": "8r-hVMqc5Wkb"
      },
      "execution_count": null,
      "outputs": []
    },
    {
      "cell_type": "code",
      "source": [
        "def calculate_hedging_ratio(df1, df2):\n",
        "# Merge the two DataFrames on the 'date' column\n",
        "    merged_df = pd.merge(df1[['date', 'Daily_Return']], df2[['date', 'Daily_Return']], on='date', suffixes=('_1', '_2'))\n",
        "\n",
        "\n",
        "# Calculate the correlation coefficient between the returns of the two currency pairs\n",
        "    correlation = merged_df['Daily_Return_1'].corr(merged_df['Daily_Return_2'])\n",
        "\n",
        "\n",
        "# Calculate the hedging ratio\n",
        "    hedging_ratio = - correlation * (df1['Daily_Return'].std() /    df2['Daily_Return'].std())\n",
        "\n",
        "\n",
        "    print(f\"Correlation between the two currency pairs: {correlation}\")\n",
        "    print(f\"Hedging Ratio: {hedging_ratio}\")\n",
        "\n",
        "\n",
        "#Calling the function to get the results\n",
        "calculate_hedging_ratio(df_month_CHFUSD,df_month_NZDUSD)#for daily data\n",
        "calculate_hedging_ratio(df_day_SEKUSD,df_day_EURUSD)#for hourly data"
      ],
      "metadata": {
        "id": "z3vAY5P_5dca"
      },
      "execution_count": null,
      "outputs": []
    },
    {
      "cell_type": "code",
      "source": [
        "# For Daily Data\n",
        "hedging_ratio_CHFUSD_NZDUSD = -0.5203035958912856\n",
        "\n",
        "\n",
        "# Calculate weights based on hedging ratio\n",
        "weights_CHFUSD_NZDUSD = {'CHFUSD': 1 / (1 + abs(hedging_ratio_CHFUSD_NZDUSD)),\n",
        "                         'NZDUSD': abs(hedging_ratio_CHFUSD_NZDUSD) / (1 + abs(hedging_ratio_CHFUSD_NZDUSD))}\n",
        "#For Hourly Data\n",
        "hedging_ratio_SEKUSD_EURUSD =-1.4597042985219284\n",
        "\n",
        "\n",
        "# Calculate weights based on the hedging ratio\n",
        "weights_SEKUSD_EURUSD = {'SEKUSD': 1 / (1 + abs(hedging_ratio_SEKUSD_EURUSD)),\n",
        "                         'EURUSD': abs(hedging_ratio_SEKUSD_EURUSD) / (1 + abs(hedging_ratio_SEKUSD_EURUSD))}"
      ],
      "metadata": {
        "id": "88XMgGRt5w66"
      },
      "execution_count": null,
      "outputs": []
    },
    {
      "cell_type": "code",
      "source": [
        "# For Daily Data\n",
        "df_next_day = tm.historical(currency='CHFUSD,NZDUSD', date=\"2023-12-11\", interval=\"daily\", fields=[\"open\", \"high\", \"low\", \"close\"])  # Fetching new Day data\n",
        "\n",
        "df_next_day['Daily_Return'] = ((df_next_day['close'] - df_next_day['open']) / df_next_day['open']) * 100  # Calculating Daily Return\n",
        "\n",
        "# ---------\n",
        "\n",
        "# For Hourly Data\n",
        "df_next_hour_SEKUSD = tm.timeseries(currency='SEKUSD', start=\"2023-12-14-00:05\", end=\"2023-12-14-01:00\", interval=\"hourly\", fields=[\"open\", \"high\", \"low\", \"close\"])  # Fetching Hourly Data for SEKUSD\n",
        "\n",
        "df_next_hour_SEKUSD['Hourly_Return'] = ((df_next_hour_SEKUSD['close'] - df_next_hour_SEKUSD['open']) / df_next_hour_SEKUSD['open']) * 100  # Calculating Hourly Return for SEKUSD\n",
        "\n",
        "df_next_hour_EURUSD = tm.timeseries(currency='EURUSD', start=\"2023-12-14-00:05\", end=\"2023-12-14-01:00\", interval=\"hourly\", fields=[\"open\", \"high\", \"low\", \"close\"])  # Fetching Hourly Data for EURUSD\n",
        "\n",
        "df_next_hour_EURUSD['Hourly_Return'] = ((df_next_hour_EURUSD['close'] - df_next_hour_EURUSD['open']) / df_next_hour_EURUSD['open']) * 100  # Calculating Hourly Return for EURUSD"
      ],
      "metadata": {
        "id": "Tp-wl11b5122"
      },
      "execution_count": null,
      "outputs": []
    },
    {
      "cell_type": "code",
      "source": [
        "# Calculate next hour portfolio return\n",
        "portfolio_return_next_hour = weights_SEKUSD_EURUSD['SEKUSD'] * df_next_hour_SEKUSD['Hourly_Return'].item() + weights_SEKUSD_EURUSD['EURUSD'] * df_next_hour_EURUSD['Hourly_Return'].item()\n",
        "\n",
        "# Calculate next day portfolio return\n",
        "portfolio_return_next_day = weights_CHFUSD_NZDUSD['CHFUSD'] * df_next_day.loc[df_next_day['instrument'] == 'CHFUSD', 'Daily_Return'].values[0] + weights_CHFUSD_NZDUSD['NZDUSD'] * df_next_day.loc[df_next_day['instrument'] == 'NZDUSD', 'Daily_Return'].values[0]"
      ],
      "metadata": {
        "id": "D--8z3Wx55ti"
      },
      "execution_count": null,
      "outputs": []
    },
    {
      "cell_type": "code",
      "source": [
        "# Calculate Total Return\n",
        "def calculate_and_print_total_return(starting_portfolio_value, portfolio_return_next_day):\n",
        "    ending_portfolio_value = starting_portfolio_value * (1 + portfolio_return_next_day / 100)\n",
        "    total_return = (ending_portfolio_value - starting_portfolio_value) / starting_portfolio_value * 100\n",
        "    return total_return\n",
        "\n",
        "# Calling the ‘calculate_and_print_total_return’ function\n",
        "total_return_daily = calculate_and_print_total_return(1, portfolio_return_next_day)# For Daily Data\n",
        "print(f\"Total Daily Return: {total_return_daily:.2f}%\")\n",
        "\n",
        "total_return_hourly = calculate_and_print_total_return(1, portfolio_return_next_hour)# For Hourly Data\n",
        "print(f\"Total Hourly Return: {total_return_hourly:.2f}%\")\n",
        "\n",
        "trading_days_in_year = 252  #assuming 252 trading days in a year\n",
        "trading_hours_per_day = 8  # Assuming 8 trading hours per day\n",
        "\n",
        "# Calculate annualized total return for daily data\n",
        "annualized_total_return_daily = ((1 + total_return_daily / 100) ** (trading_days_in_year / 1)) - 1\n",
        "\n",
        "print(f\"Annualized Total Return (Daily Data): {annualized_total_return_daily * 100:.2f}%\")\n",
        "\n",
        "# Calculate annualized total return for hourly data\n",
        "annualized_total_return_hourly = ((1 + total_return_hourly / 100) ** (trading_days_in_year * ttrading_hours_per_day / 1)) - 1\n",
        "\n",
        "print(f\"Annualized Total Return (Hourly Data): {annualized_total_return_hourly * 100:.2f}%\")"
      ],
      "metadata": {
        "id": "3wxM8bne6C4N"
      },
      "execution_count": null,
      "outputs": []
    }
  ]
}
